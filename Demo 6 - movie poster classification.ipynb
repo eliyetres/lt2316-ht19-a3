{
 "cells": [
  {
   "cell_type": "markdown",
   "metadata": {},
   "source": [
    "## Demo 6 - movie poster classification"
   ]
  },
  {
   "cell_type": "markdown",
   "metadata": {},
   "source": [
    "Multi-label (meaning that there is more than one \"true\" label) classification of movie poster images by genre."
   ]
  },
  {
   "cell_type": "code",
   "execution_count": 1,
   "metadata": {},
   "outputs": [],
   "source": [
    "import os\n",
    "import sys\n",
    "from skimage import io\n",
    "from torch import nn\n",
    "import torch\n",
    "import numpy as np\n",
    "import random\n",
    "import pandas as pd"
   ]
  },
  {
   "cell_type": "markdown",
   "metadata": {},
   "source": [
    "### Load the data\n",
    "\n",
    "We use a PyTorch `Dataset` to represent the data, which means we must implement `__init__`, `__len__` and `__getitem__`.  For efficiency's sake, we ideally want to load the image data (movie posters and their genre classifications) and represent them as a `Tensor` in memory.\n",
    "\n",
    "The movie posters had to be converted to images of the same size and colour channels.  The resizing can be done inside Python but is slow, so they were converted on-disk using command-line tools. The colour channels are more efficient than resizing in Python, so that was done in Python.\n",
    "\n",
    "Note that we need to permute the dimensions of the `Tensor` we create from `skimage` NumPy arrays. The latter represent the colour channels (three, for red-green-blue) as the innermost dimension (the fourth dimension, or dimension 3, meaning that pixels are represented as an array of three colour values).  The convolutional layers in PyTorch require the colour channel to be the second dimension (after the batch dimension, meaning that the image is represented as three overlapping images, one for each colour, where each pixel is a single value).  You need to use `Tensor.permute` not `Tensor.view`---the latter just redraws the \"boxes\" inside the array, it doesn't rearrange the data for a different order of dimensions."
   ]
  },
  {
   "cell_type": "code",
   "execution_count": 2,
   "metadata": {},
   "outputs": [],
   "source": [
    "SEED = 23\n",
    "\n",
    "random.seed(SEED)\n",
    "np.random.seed(SEED)\n",
    "torch.manual_seed(SEED)\n",
    "torch.cuda.manual_seed(SEED)"
   ]
  },
  {
   "cell_type": "code",
   "execution_count": 3,
   "metadata": {},
   "outputs": [],
   "source": [
    "device = torch.device('cuda:2' if torch.cuda.is_available() else 'cpu')"
   ]
  },
  {
   "cell_type": "code",
   "execution_count": 4,
   "metadata": {},
   "outputs": [],
   "source": [
    "from torch.utils.data import Dataset\n",
    "from skimage import transform\n",
    "from skimage import color\n",
    "\n",
    "class MoviePosterDataset(Dataset):\n",
    "    def __init__(self, csvfile, imagedir, device=device):\n",
    "        self.posterlist = pd.read_csv(csvfile)\n",
    "        self.imagedir = imagedir\n",
    "        \n",
    "        imageids = list(self.posterlist[\"Id\"])\n",
    "        imagefiles = [\"{}/{}.jpg\".format(self.imagedir, x) for x in imageids]\n",
    "        images = [np.array(io.imread(x)) for x in imagefiles]\n",
    "        images = np.array([color.gray2rgb(x) if len(x.shape) < 3 else x for x in images])\n",
    "        \n",
    "        truths = self.posterlist[self.posterlist.columns[2:]]\n",
    "        self.truths = torch.Tensor(truths.to_numpy())\n",
    "    \n",
    "        tns = torch.from_numpy(images)\n",
    "        self.images = tns.permute(0, 3, 1, 2)\n",
    "        \n",
    "        if device != \"cpu\":\n",
    "            self.device = torch.device(device)\n",
    "            self.images = self.images.to(self.device)\n",
    "            self.truths = self.truths.to(self.device)\n",
    "        \n",
    "    def __len__(self):\n",
    "        return len(self.posterlist)\n",
    "    \n",
    "    def __getitem__(self, idx):            \n",
    "        truths = self.truths[idx]\n",
    "        images = self.images[idx]\n",
    "        \n",
    "        return images, truths"
   ]
  },
  {
   "cell_type": "markdown",
   "metadata": {},
   "source": [
    "We keep the `Tensor` on the CPU because of memory limitations created by sticking to one GPU (which only has 10GB of space to itself).  We will move it to the GPU in batches instead."
   ]
  },
  {
   "cell_type": "code",
   "execution_count": 5,
   "metadata": {},
   "outputs": [
    {
     "name": "stdout",
     "output_type": "stream",
     "text": [
      "Finished loading the dataset.\n"
     ]
    }
   ],
   "source": [
    "mpd = MoviePosterDataset(\"Multi_Label_dataset/train.csv\", \n",
    "                         \"Multi_Label_dataset/ImageSmaller\", device=\"cpu\")\n",
    "print(\"Finished loading the dataset.\")"
   ]
  },
  {
   "cell_type": "markdown",
   "metadata": {},
   "source": [
    "There are 7254 poster images and all the images have been converted to a shape of (3, 300, 450). There are 25 movie labels."
   ]
  },
  {
   "cell_type": "code",
   "execution_count": 6,
   "metadata": {},
   "outputs": [
    {
     "data": {
      "text/plain": [
       "(torch.Size([7254, 3, 300, 450]), torch.Size([7254, 25]))"
      ]
     },
     "execution_count": 6,
     "metadata": {},
     "output_type": "execute_result"
    }
   ],
   "source": [
    "mpd.images.shape, mpd.truths.shape"
   ]
  },
  {
   "cell_type": "markdown",
   "metadata": {},
   "source": [
    "### Define the model\n",
    "\n",
    "Defining a model with convolutional layers for images is technically a lot easier than defining an RNN-based model for human language.  The `Conv2d` layer automatically moves a 5x5 filter across the entire image, no effort required to manage padding and packing and unpacking and sequence issues. We do have to flatten the output of the `MaxPool2d` layer to feed it to the subsequent `Linear` layers.  The output of the model comes from `Sigmoid` over the number of classes, so that we have a binary classification for the 25 separate movie labels.  "
   ]
  },
  {
   "attachments": {},
   "cell_type": "markdown",
   "metadata": {},
   "source": [
    "X = Batch size\n",
    "\n",
    "\n",
    "Layer 1\n",
    "* First convolutional layer: Size changes from `[X, 3, 300, 450]` to `[X, 16, 300, 450]`.\n",
    "* Dropout: 0.8\n",
    "* First pooling layer: Size changes from `[X, 16, 300, 450]` to `[X, 16, 150, 225]`.\n",
    "\n",
    "Layer 2\n",
    "* Second convolutional layer: Size changes from `[X, 16, 150, 225]` to `[X, 32, 150, 225]`.\n",
    "* Dropout: 0.25\n",
    "* Second pooling layer: `[X, 32, 75, 112]` to `[X, 32, 75, 112]`.\n",
    "\n",
    "Layer 3\n",
    "* Third convolutional layer: Size changes from `[X, 32, 75, 112]` to `[X, 64, 75, 112]`.\n",
    "* Dropout: 0.25\n",
    "* Third pooling layer: Size changes from `[X, 64, 75, 112]` to `[X, 64, 37, 56]`.\n",
    "\n",
    "\n",
    "After training the model using 3 layers, the model starts to overfit; it's learning to recognize specific images in the training set rather than generalizing. Adding dropout to all the layers did not help to avoid overfitting. \n",
    "\n",
    "The  model with the lowest loss was trained using 3 layers, a dropout of 0.8 at the first layer and a dropout of 0.25 for the others. However, the model starts to overfit after 5 epochs; the validation keeps increasing while the training loss stays close to 0.\n",
    "\n",
    "![pl1](/img/3l_lr0001.png \"Plot 1\")\n",
    "3 layers, dropout 0.8 for input layer, 0.25 for the rest, learning rate: 0.0001\n",
    "\n",
    "Using the same dropout, but adding a 4th layer produces similar results as only using 3 layers, but the model takes longer (10 epochs) before it starts to overfit. The model with 3 layers performed slightly better so I decided to keep it like this.\n",
    "![pl2](/img/4l_lr0001.png \"Plot 2\")\n",
    "4 layers, dropout 0.8 for input layer, 0.25 for the rest, learning rate: 0.0001\n",
    "\n",
    "Training the model using 4 layers with a higher learning rate gives a higher loss than the 3 layers and after 20 epochs, both the training and validation loss increases. Training the model with a lower learning rate, even when including dropout for all layers, causes the model to overfit.\n",
    "\n",
    "![pl3](/img/4l_lr001.png \"Plot 3\")\n",
    "4 layers, dropout 0.8 for input layer, 0.25 for the rest, learning rate: 0.001"
   ]
  },
  {
   "cell_type": "code",
   "execution_count": 7,
   "metadata": {},
   "outputs": [],
   "source": [
    "class PosterClassifier(nn.Module):\n",
    "    def __init__(self, dropout=0.5):\n",
    "        super().__init__()\n",
    "    \n",
    "        # Kernel Size: the size of the filter.\n",
    "        \n",
    "        # Stride: the rate at which the kernel passes over the input image. \n",
    "        # A stride of 2 moves the kernel in 2-pixel increments.\n",
    "        \n",
    "        # Padding : add layers of 0s to the outside of the image \n",
    "        # in order to make sure that the kernel properly passes over the edges of the image.\n",
    "        # Padding should be smaller than half the kernel size\n",
    "        \n",
    "        self.input_dropout = nn.Dropout(0.8)\n",
    "        self.dropout = nn.Dropout(dropout)\n",
    "    \n",
    "        # Layer 1\n",
    "        self.conv1  = nn.Conv2d(in_channels=3,out_channels=16,kernel_size=5, stride=1, padding=2)\n",
    "        self.bnm1 = nn.BatchNorm2d(16)\n",
    "        self.maxpool1 = nn.MaxPool2d(kernel_size=2, stride=2)\n",
    "        \n",
    "        # Layer 2\n",
    "        self.conv2 = nn.Conv2d(in_channels=16,out_channels=32, kernel_size=5, stride=1, padding=2)\n",
    "        self.bnm2 = nn.BatchNorm2d(32)\n",
    "        self.maxpool2 = nn.MaxPool2d(kernel_size=2,stride=2)\n",
    "        \n",
    "        # Layer 3\n",
    "        self.conv3 = nn.Conv2d(in_channels=32,out_channels=64, kernel_size=5, stride=1, padding=2)\n",
    "        self.bnm3 = nn.BatchNorm2d(64)\n",
    "        self.maxpool3 = nn.MaxPool2d(kernel_size=2,stride=2)\n",
    "        \n",
    "        # Layer 4\n",
    "        self.conv4 = nn.Conv2d(in_channels=64,out_channels=128, kernel_size=5, stride=1, padding=2)\n",
    "        self.bnm4 = nn.BatchNorm2d(128)\n",
    "        self.maxpool4 = nn.MaxPool2d(kernel_size=2,stride=2)\n",
    "        \n",
    "        self.relu = nn.ReLU()\n",
    "        self.linear0 = nn.Linear((64*37*56), 3000)\n",
    "        #self.linear0 = nn.Linear(128 * 18 * 28, 3000)\n",
    "        self.tanh = nn.Tanh()    \n",
    "        self.linear1 = nn.Linear(3000, 25) # 25 output classes\n",
    "        self.sigmoid = nn.Sigmoid()\n",
    "        \n",
    "    def forward(self, input):\n",
    "        # conv -> relu -> maxpool        \n",
    "        # Computes the activation of the first convolution\n",
    "        # X is batch size\n",
    "        \n",
    "        #Layer 1\n",
    "        #Size changes from [X, 3, 300, 450] to [X, 16, 300, 450]\n",
    "        output = self.conv1(input)\n",
    "        output = self.bnm1(output)\n",
    "        output = self.relu(output)\n",
    "        output = self.input_dropout(output) \n",
    "        #print(\"Conv1\", output.size())\n",
    "        #Size changes from [X, 16, 300, 450] to [X, 16, 150, 225]\n",
    "        output = self.maxpool1(output)\n",
    "        #print(\"Pool1\", output.size())\n",
    "        \n",
    "        #Layer 2\n",
    "        #Size changes from [X, 16, 150, 225] to [X, 32, 150, 225]\n",
    "        output = self.conv2(output)\n",
    "        output = self.bnm2(output)\n",
    "        output = self.relu(output)\n",
    "        output = self.dropout(output)   \n",
    "        #print(\"Conv2\", output.size())\n",
    "        #Size changes from [X, 32, 75, 112] to [X, 32, 75, 112]\n",
    "        output = self.maxpool2(output)\n",
    "        #print(\"Pool2\", output.size())\n",
    "        \n",
    "        #Layer 3\n",
    "        #Size changes from [X, 32, 75, 112] to [X, 64, 75, 112]\n",
    "        output = self.conv3(output)\n",
    "        output = self.bnm3(output)\n",
    "        output = self.relu(output)\n",
    "        output = self.dropout(output) \n",
    "        #print(\"Conv3\", output.size())\n",
    "        #Size changes from [X, 64, 75, 112) to [X, 64, 37, 56]\n",
    "        output = self.maxpool3(output)\n",
    "        #print(\"Pool3\", output.size())\n",
    "        \n",
    "        #Layer 4\n",
    "        #Size changes from [X, 64, 75, 112] to [X, 128, 75, 112]\n",
    "        #output = self.conv4(output)\n",
    "        #output = self.bnm4(output)\n",
    "        #output = self.relu(output)\n",
    "        #output = self.dropout(output) \n",
    "        #print(\"Conv4\", output.size())\n",
    "        #Size changes from [X, 128, 75, 112] to [X, 128, 18, 28]\n",
    "        #output = self.maxpool4(output)\n",
    "        #print(\"Pool4\", output.size())\n",
    "        \n",
    "        #output = output.view(-1, 3*90*60)\n",
    "        output = output.view(-1, 64*37*56) # output size of final pooling layer\n",
    "        #output = output.view(-1, 128 * 18 * 28)\n",
    "        output = self.relu(output)\n",
    "        output = self.linear0(output)\n",
    "        output = self.dropout(output)\n",
    "        output = self.tanh(output)\n",
    "        output = self.linear1(output)\n",
    "        output = self.dropout(output)\n",
    "        output = self.sigmoid(output)\n",
    "        \n",
    "        return output"
   ]
  },
  {
   "cell_type": "markdown",
   "metadata": {},
   "source": [
    "### Arrange the data for the model\n",
    "\n",
    "We're going to do a 60/40 train/test split using PyTorch's own samplers and data loaders."
   ]
  },
  {
   "cell_type": "code",
   "execution_count": 8,
   "metadata": {},
   "outputs": [
    {
     "data": {
      "text/plain": [
       "7254"
      ]
     },
     "execution_count": 8,
     "metadata": {},
     "output_type": "execute_result"
    }
   ],
   "source": [
    "len(mpd)"
   ]
  },
  {
   "cell_type": "code",
   "execution_count": 9,
   "metadata": {},
   "outputs": [],
   "source": [
    "totalindices = list(range(len(mpd)))"
   ]
  },
  {
   "cell_type": "code",
   "execution_count": 10,
   "metadata": {},
   "outputs": [],
   "source": [
    "import random\n",
    "import math\n",
    "\n",
    "random.shuffle(totalindices)\n",
    "splitindex = math.floor(len(mpd)*0.6)"
   ]
  },
  {
   "cell_type": "code",
   "execution_count": 11,
   "metadata": {},
   "outputs": [
    {
     "data": {
      "text/plain": [
       "4352"
      ]
     },
     "execution_count": 11,
     "metadata": {},
     "output_type": "execute_result"
    }
   ],
   "source": [
    "splitindex"
   ]
  },
  {
   "cell_type": "raw",
   "metadata": {},
   "source": [
    "# sample set used for testing part of the dataset\n",
    "# sample = len(mpd)//4\n",
    "# totalindices = list(range((sample)))\n",
    "# random.shuffle(totalindices)\n",
    "# splitindex = math.floor((sample)*0.6)"
   ]
  },
  {
   "cell_type": "markdown",
   "metadata": {},
   "source": [
    "## Part #1: validation data (4 points)\n",
    "\n",
    "Adjust the code in the notebook to give a 60/20/20 train/validation/testing split of the data. Testing data is split 50/50 into test and validation sets."
   ]
  },
  {
   "cell_type": "code",
   "execution_count": 12,
   "metadata": {},
   "outputs": [],
   "source": [
    "trainingindices = totalindices[:splitindex]\n",
    "testingindices_ = totalindices[splitindex:]"
   ]
  },
  {
   "cell_type": "code",
   "execution_count": 13,
   "metadata": {},
   "outputs": [],
   "source": [
    "splitindex2 = math.floor(len(testingindices_)*0.5)"
   ]
  },
  {
   "cell_type": "code",
   "execution_count": 14,
   "metadata": {},
   "outputs": [
    {
     "data": {
      "text/plain": [
       "1451"
      ]
     },
     "execution_count": 14,
     "metadata": {},
     "output_type": "execute_result"
    }
   ],
   "source": [
    "splitindex2"
   ]
  },
  {
   "cell_type": "code",
   "execution_count": 15,
   "metadata": {},
   "outputs": [],
   "source": [
    "testingindices = testingindices_[:splitindex2]\n",
    "validationindices = testingindices_[splitindex2:]"
   ]
  },
  {
   "cell_type": "code",
   "execution_count": 16,
   "metadata": {},
   "outputs": [],
   "source": [
    "trainingsampler = torch.utils.data.SubsetRandomSampler(trainingindices)\n",
    "testingsampler = torch.utils.data.SubsetRandomSampler(testingindices)\n",
    "validationsampler = torch.utils.data.SubsetRandomSampler(validationindices)"
   ]
  },
  {
   "cell_type": "code",
   "execution_count": 17,
   "metadata": {},
   "outputs": [
    {
     "name": "stdout",
     "output_type": "stream",
     "text": [
      "Number of training examples: 4352\n",
      "Number of validation examples: 1451\n",
      "Number of testing examples: 1451\n"
     ]
    }
   ],
   "source": [
    "print(f'Number of training examples: {len(trainingsampler)}')\n",
    "print(f'Number of validation examples: {len(validationsampler)}')\n",
    "print(f'Number of testing examples: {len(testingsampler)}')"
   ]
  },
  {
   "cell_type": "code",
   "execution_count": 18,
   "metadata": {},
   "outputs": [],
   "source": [
    "batches = 32"
   ]
  },
  {
   "cell_type": "code",
   "execution_count": 19,
   "metadata": {},
   "outputs": [],
   "source": [
    "traindl = torch.utils.data.DataLoader(mpd, batch_size=batches, \n",
    "                                      sampler=trainingsampler, pin_memory=False)\n",
    "valdl = torch.utils.data.DataLoader(mpd, batch_size=batches, sampler=validationsampler, pin_memory=False)\n",
    "testdl = torch.utils.data.DataLoader(mpd, sampler=testingsampler)"
   ]
  },
  {
   "cell_type": "markdown",
   "metadata": {},
   "source": [
    "# Jackard Index\n",
    "The size of the intersection divided by the size of the union of two label sets:\n",
    "A ∩ B / A ∪ B = A ∩ B / (area(A) + area(B) - A ∩ B)\n",
    "\n",
    "CNN for image identification applications apply the Jaccard Index measurements as a way of conceptualizing accuracy of object detection."
   ]
  },
  {
   "cell_type": "code",
   "execution_count": 20,
   "metadata": {},
   "outputs": [],
   "source": [
    "def jaccard(output, truth):\n",
    " \n",
    "    for i in range(len(truth)):\n",
    "        tru = [index.item() for index in truth[i]]\n",
    "        out = [1.0 if index.item() > 0.5 else 0.0 for index in output[i]]\n",
    "    for i in range(len(tru)):\n",
    "        intersection = 0.0\n",
    "        union = 0.0\n",
    "        if tru[i] == out[i]:\n",
    "            intersection += 1\n",
    "        union += 1\n",
    "    return intersection/union"
   ]
  },
  {
   "cell_type": "code",
   "execution_count": 21,
   "metadata": {},
   "outputs": [],
   "source": [
    "def epoch_time(start_time, end_time):\n",
    "    elapsed_time = end_time - start_time\n",
    "    elapsed_mins = int(elapsed_time / 60)\n",
    "    elapsed_secs = int(elapsed_time - (elapsed_mins * 60))\n",
    "    return elapsed_mins, elapsed_secs"
   ]
  },
  {
   "cell_type": "markdown",
   "metadata": {},
   "source": [
    "### Write and run the training loop\n",
    "\n"
   ]
  },
  {
   "cell_type": "code",
   "execution_count": 22,
   "metadata": {},
   "outputs": [],
   "source": [
    "model_name = \"image_model\"\n",
    "model = PosterClassifier()"
   ]
  },
  {
   "cell_type": "code",
   "execution_count": 23,
   "metadata": {
    "scrolled": true
   },
   "outputs": [
    {
     "data": {
      "text/plain": [
       "PosterClassifier(\n",
       "  (input_dropout): Dropout(p=0.8, inplace=False)\n",
       "  (dropout): Dropout(p=0.5, inplace=False)\n",
       "  (conv1): Conv2d(3, 16, kernel_size=(5, 5), stride=(1, 1), padding=(2, 2))\n",
       "  (bnm1): BatchNorm2d(16, eps=1e-05, momentum=0.1, affine=True, track_running_stats=True)\n",
       "  (maxpool1): MaxPool2d(kernel_size=2, stride=2, padding=0, dilation=1, ceil_mode=False)\n",
       "  (conv2): Conv2d(16, 32, kernel_size=(5, 5), stride=(1, 1), padding=(2, 2))\n",
       "  (bnm2): BatchNorm2d(32, eps=1e-05, momentum=0.1, affine=True, track_running_stats=True)\n",
       "  (maxpool2): MaxPool2d(kernel_size=2, stride=2, padding=0, dilation=1, ceil_mode=False)\n",
       "  (conv3): Conv2d(32, 64, kernel_size=(5, 5), stride=(1, 1), padding=(2, 2))\n",
       "  (bnm3): BatchNorm2d(64, eps=1e-05, momentum=0.1, affine=True, track_running_stats=True)\n",
       "  (maxpool3): MaxPool2d(kernel_size=2, stride=2, padding=0, dilation=1, ceil_mode=False)\n",
       "  (conv4): Conv2d(64, 128, kernel_size=(5, 5), stride=(1, 1), padding=(2, 2))\n",
       "  (bnm4): BatchNorm2d(128, eps=1e-05, momentum=0.1, affine=True, track_running_stats=True)\n",
       "  (maxpool4): MaxPool2d(kernel_size=2, stride=2, padding=0, dilation=1, ceil_mode=False)\n",
       "  (relu): ReLU()\n",
       "  (linear0): Linear(in_features=132608, out_features=3000, bias=True)\n",
       "  (tanh): Tanh()\n",
       "  (linear1): Linear(in_features=3000, out_features=25, bias=True)\n",
       "  (sigmoid): Sigmoid()\n",
       ")"
      ]
     },
     "execution_count": 23,
     "metadata": {},
     "output_type": "execute_result"
    }
   ],
   "source": [
    "model"
   ]
  },
  {
   "cell_type": "code",
   "execution_count": 24,
   "metadata": {},
   "outputs": [
    {
     "name": "stdout",
     "output_type": "stream",
     "text": [
      "The model has 398,172,745 trainable parameters\n"
     ]
    }
   ],
   "source": [
    "def count_parameters(model):\n",
    "    return sum(p.numel() for p in model.parameters() if p.requires_grad)\n",
    "\n",
    "print(f'The model has {count_parameters(model):,} trainable parameters')"
   ]
  },
  {
   "cell_type": "code",
   "execution_count": 25,
   "metadata": {},
   "outputs": [],
   "source": [
    "learning_rate= 0.0001\n",
    "decay=1e-6"
   ]
  },
  {
   "cell_type": "code",
   "execution_count": 26,
   "metadata": {},
   "outputs": [],
   "source": [
    "import torch.optim as optim\n",
    "import time\n",
    "import numpy as np\n",
    "\n",
    "def train(train_dataloader, val_dataloader, model,epochs=3):\n",
    "    torch.cuda.empty_cache()\n",
    "    \n",
    "    model = model.to(device)\n",
    "    optimizer = optim.Adam(model.parameters(), lr=learning_rate, weight_decay=decay)\n",
    "\n",
    "    criterion = nn.BCELoss()\n",
    "    criterion = criterion.to(device)\n",
    "    best_val_loss = 0.0\n",
    "    jaccard_losses = []\n",
    "    val_losses = []\n",
    "    train_losses = []\n",
    "    \n",
    "    for epoch in range(epochs):\n",
    "        start_time = time.time()\n",
    "        \n",
    "        # Training\n",
    "        train_loss = 0.0        \n",
    "        train_batches = 0\n",
    "        \n",
    "        for c, data in enumerate(train_dataloader):\n",
    "            images, truth = data\n",
    "            optimizer.zero_grad()\n",
    "            output = model(images.float().to(device))\n",
    "            loss = criterion(output, truth.to(device))\n",
    "            train_loss += loss\n",
    "            train_batches += 1.0\n",
    "            loss.backward()\n",
    "            optimizer.step()\n",
    "\n",
    "        # Validation\n",
    "        val_loss = 0.0        \n",
    "        val_batches = 0        \n",
    "        jaccard_loss = 0.0\n",
    "        \n",
    "        model.eval()\n",
    "        for c, data in enumerate(val_dataloader):\n",
    "            images, truth = data\n",
    "            output = model(images.float().to(device))\n",
    "            with torch.no_grad():  \n",
    "                val_loss += criterion(output, truth.to(device))          \n",
    "            val_batches += 1.0            \n",
    "            jaccard_loss += jaccard(output, truth.to(device))    \n",
    "            \n",
    "            \n",
    "        validation_loss = val_loss/val_batches\n",
    "        validation_loss = validation_loss.item()       \n",
    "        training_loss = train_loss/train_batches\n",
    "        training_loss = training_loss.item()\n",
    "        jaccard_loss = jaccard_loss/float(batches*val_batches)\n",
    "           \n",
    "        val_losses.append(validation_loss)\n",
    "        jaccard_losses.append(jaccard_loss)\n",
    "        train_losses.append(training_loss)\n",
    "        \n",
    "        # save best model\n",
    "        if epoch == 0:\n",
    "            best_val_loss = validation_loss        \n",
    "        if validation_loss < best_val_loss:\n",
    "            best_val_loss = validation_loss\n",
    "            print(\"Best loss so far!\")\n",
    "            torch.save(model.state_dict(), model_name)\n",
    "            #torch.save(model, model_name)\n",
    "            \n",
    "        end_time = time.time()\n",
    "        epoch_mins, epoch_secs = epoch_time(start_time, end_time)\n",
    "        \n",
    "               \n",
    "        \n",
    "        print(f'Epoch: {epoch+1:02} | Epoch Time: {epoch_mins}m {epoch_secs}s')\n",
    "        print(f'\\tTrain Loss: {training_loss:.3f}')\n",
    "        print(f'\\t Validation Loss: {validation_loss:.3f}')\n",
    "        print(f'\\t Lowest Loss: {best_val_loss:.3f}')\n",
    "        print(f'\\t Jaccard Index: {jaccard_loss:.3f}')\n",
    "        \n",
    "    return val_losses, train_losses, jaccard_losses"
   ]
  },
  {
   "cell_type": "code",
   "execution_count": 27,
   "metadata": {
    "scrolled": true
   },
   "outputs": [
    {
     "name": "stdout",
     "output_type": "stream",
     "text": [
      "Epoch: 01 | Epoch Time: 0m 33s\n",
      "\tTrain Loss: 0.480\n",
      "\t Validation Loss: 0.246\n",
      "\t Lowest Loss: 0.246\n",
      "\t Jaccard Index: 0.031\n",
      "Best loss so far!\n",
      "Epoch: 02 | Epoch Time: 0m 48s\n",
      "\tTrain Loss: 0.244\n",
      "\t Validation Loss: 0.238\n",
      "\t Lowest Loss: 0.238\n",
      "\t Jaccard Index: 0.031\n",
      "Best loss so far!\n",
      "Epoch: 03 | Epoch Time: 0m 48s\n",
      "\tTrain Loss: 0.239\n",
      "\t Validation Loss: 0.236\n",
      "\t Lowest Loss: 0.236\n",
      "\t Jaccard Index: 0.030\n",
      "Best loss so far!\n",
      "Epoch: 04 | Epoch Time: 0m 48s\n",
      "\tTrain Loss: 0.237\n",
      "\t Validation Loss: 0.234\n",
      "\t Lowest Loss: 0.234\n",
      "\t Jaccard Index: 0.031\n",
      "Epoch: 05 | Epoch Time: 0m 32s\n",
      "\tTrain Loss: 0.234\n",
      "\t Validation Loss: 0.236\n",
      "\t Lowest Loss: 0.234\n",
      "\t Jaccard Index: 0.030\n",
      "Best loss so far!\n",
      "Epoch: 06 | Epoch Time: 0m 48s\n",
      "\tTrain Loss: 0.229\n",
      "\t Validation Loss: 0.233\n",
      "\t Lowest Loss: 0.233\n",
      "\t Jaccard Index: 0.031\n",
      "Epoch: 07 | Epoch Time: 0m 32s\n",
      "\tTrain Loss: 0.219\n",
      "\t Validation Loss: 0.234\n",
      "\t Lowest Loss: 0.233\n",
      "\t Jaccard Index: 0.031\n",
      "Epoch: 08 | Epoch Time: 0m 32s\n",
      "\tTrain Loss: 0.194\n",
      "\t Validation Loss: 0.237\n",
      "\t Lowest Loss: 0.233\n",
      "\t Jaccard Index: 0.031\n",
      "Epoch: 09 | Epoch Time: 0m 32s\n",
      "\tTrain Loss: 0.155\n",
      "\t Validation Loss: 0.244\n",
      "\t Lowest Loss: 0.233\n",
      "\t Jaccard Index: 0.031\n",
      "Epoch: 10 | Epoch Time: 0m 33s\n",
      "\tTrain Loss: 0.107\n",
      "\t Validation Loss: 0.258\n",
      "\t Lowest Loss: 0.233\n",
      "\t Jaccard Index: 0.031\n",
      "Epoch: 11 | Epoch Time: 0m 32s\n",
      "\tTrain Loss: 0.068\n",
      "\t Validation Loss: 0.276\n",
      "\t Lowest Loss: 0.233\n",
      "\t Jaccard Index: 0.031\n",
      "Epoch: 12 | Epoch Time: 0m 32s\n",
      "\tTrain Loss: 0.042\n",
      "\t Validation Loss: 0.292\n",
      "\t Lowest Loss: 0.233\n",
      "\t Jaccard Index: 0.031\n",
      "Epoch: 13 | Epoch Time: 0m 32s\n",
      "\tTrain Loss: 0.027\n",
      "\t Validation Loss: 0.316\n",
      "\t Lowest Loss: 0.233\n",
      "\t Jaccard Index: 0.031\n",
      "Epoch: 14 | Epoch Time: 0m 32s\n",
      "\tTrain Loss: 0.018\n",
      "\t Validation Loss: 0.334\n",
      "\t Lowest Loss: 0.233\n",
      "\t Jaccard Index: 0.031\n",
      "Epoch: 15 | Epoch Time: 0m 32s\n",
      "\tTrain Loss: 0.012\n",
      "\t Validation Loss: 0.351\n",
      "\t Lowest Loss: 0.233\n",
      "\t Jaccard Index: 0.031\n",
      "Epoch: 16 | Epoch Time: 0m 33s\n",
      "\tTrain Loss: 0.009\n",
      "\t Validation Loss: 0.361\n",
      "\t Lowest Loss: 0.233\n",
      "\t Jaccard Index: 0.031\n",
      "Epoch: 17 | Epoch Time: 0m 33s\n",
      "\tTrain Loss: 0.006\n",
      "\t Validation Loss: 0.378\n",
      "\t Lowest Loss: 0.233\n",
      "\t Jaccard Index: 0.029\n",
      "Epoch: 18 | Epoch Time: 0m 33s\n",
      "\tTrain Loss: 0.005\n",
      "\t Validation Loss: 0.391\n",
      "\t Lowest Loss: 0.233\n",
      "\t Jaccard Index: 0.031\n",
      "Epoch: 19 | Epoch Time: 0m 33s\n",
      "\tTrain Loss: 0.004\n",
      "\t Validation Loss: 0.403\n",
      "\t Lowest Loss: 0.233\n",
      "\t Jaccard Index: 0.031\n",
      "Epoch: 20 | Epoch Time: 0m 32s\n",
      "\tTrain Loss: 0.003\n",
      "\t Validation Loss: 0.411\n",
      "\t Lowest Loss: 0.233\n",
      "\t Jaccard Index: 0.031\n",
      "Epoch: 21 | Epoch Time: 0m 33s\n",
      "\tTrain Loss: 0.003\n",
      "\t Validation Loss: 0.424\n",
      "\t Lowest Loss: 0.233\n",
      "\t Jaccard Index: 0.031\n",
      "Epoch: 22 | Epoch Time: 0m 33s\n",
      "\tTrain Loss: 0.002\n",
      "\t Validation Loss: 0.431\n",
      "\t Lowest Loss: 0.233\n",
      "\t Jaccard Index: 0.031\n",
      "Epoch: 23 | Epoch Time: 0m 33s\n",
      "\tTrain Loss: 0.002\n",
      "\t Validation Loss: 0.437\n",
      "\t Lowest Loss: 0.233\n",
      "\t Jaccard Index: 0.031\n",
      "Epoch: 24 | Epoch Time: 0m 32s\n",
      "\tTrain Loss: 0.002\n",
      "\t Validation Loss: 0.447\n",
      "\t Lowest Loss: 0.233\n",
      "\t Jaccard Index: 0.031\n",
      "Epoch: 25 | Epoch Time: 0m 33s\n",
      "\tTrain Loss: 0.002\n",
      "\t Validation Loss: 0.453\n",
      "\t Lowest Loss: 0.233\n",
      "\t Jaccard Index: 0.031\n",
      "Epoch: 26 | Epoch Time: 0m 32s\n",
      "\tTrain Loss: 0.001\n",
      "\t Validation Loss: 0.458\n",
      "\t Lowest Loss: 0.233\n",
      "\t Jaccard Index: 0.031\n",
      "Epoch: 27 | Epoch Time: 0m 32s\n",
      "\tTrain Loss: 0.001\n",
      "\t Validation Loss: 0.464\n",
      "\t Lowest Loss: 0.233\n",
      "\t Jaccard Index: 0.031\n",
      "Epoch: 28 | Epoch Time: 0m 32s\n",
      "\tTrain Loss: 0.001\n",
      "\t Validation Loss: 0.471\n",
      "\t Lowest Loss: 0.233\n",
      "\t Jaccard Index: 0.031\n",
      "Epoch: 29 | Epoch Time: 0m 33s\n",
      "\tTrain Loss: 0.001\n",
      "\t Validation Loss: 0.476\n",
      "\t Lowest Loss: 0.233\n",
      "\t Jaccard Index: 0.031\n",
      "Epoch: 30 | Epoch Time: 0m 33s\n",
      "\tTrain Loss: 0.001\n",
      "\t Validation Loss: 0.481\n",
      "\t Lowest Loss: 0.233\n",
      "\t Jaccard Index: 0.031\n"
     ]
    }
   ],
   "source": [
    "val_losses, train_losses, jaccard_losses = train(traindl,valdl, model,epochs=30)"
   ]
  },
  {
   "cell_type": "code",
   "execution_count": 28,
   "metadata": {},
   "outputs": [
    {
     "data": {
      "image/png": "[encoded data removed]",
      "text/plain": [
       "<Figure size 576x288 with 1 Axes>"
      ]
     },
     "metadata": {
      "needs_background": "light"
     },
     "output_type": "display_data"
    }
   ],
   "source": [
    "import matplotlib.pyplot as plt\n",
    "%matplotlib inline\n",
    "plt.figure(figsize=(8,4))\n",
    "plt.plot(train_losses, label='Train')\n",
    "plt.plot(val_losses, label=\"Validation\")\n",
    "#plt.plot(jaccard_losses, label='Jaccard',linestyle='--')\n",
    "plt.legend(['Train', 'Validation'])\n",
    "plt.xlabel(\"Epochs\")\n",
    "plt.ylabel(\"Loss\")\n",
    "\n",
    "plt.show()"
   ]
  },
  {
   "cell_type": "markdown",
   "metadata": {},
   "source": [
    "### Write and run a testing routine\n",
    "\n",
    "For memory purposes, we're keeping the testing data on the CPU memory still.  We have to put the model into evaluation mode with `model.eval`, which turns off the dropout and other regularization useful in training---we want the test to represent a deterministic result of the trained model. We also test a single epoch as one big batch."
   ]
  },
  {
   "cell_type": "code",
   "execution_count": 37,
   "metadata": {},
   "outputs": [
    {
     "data": {
      "text/plain": [
       "<All keys matched successfully>"
      ]
     },
     "execution_count": 37,
     "metadata": {},
     "output_type": "execute_result"
    }
   ],
   "source": [
    "#trained = torch.load(model_name)\n",
    "model.load_state_dict(torch.load(model_name))"
   ]
  },
  {
   "cell_type": "code",
   "execution_count": 38,
   "metadata": {},
   "outputs": [],
   "source": [
    "def test(model, dataloader):\n",
    "    #model = model.to(device)\n",
    "    model.eval()\n",
    "    criterion = nn.BCELoss()\n",
    "    sumloss = 0.0\n",
    "    items = 0.0\n",
    "    jaccard_loss = 0.0\n",
    "    \n",
    "    for c, data in enumerate(dataloader):\n",
    "        images, truth = data\n",
    "        output = model(images.float())\n",
    "        sumloss += criterion(output, truth)\n",
    "        jaccard_loss += jaccard(output, truth.to(device))\n",
    "        items += 1.0\n",
    "        \n",
    "    print(f'\\t Test Loss: {sumloss/items:.3f}')\n",
    "    print(f'\\t Jaccard Index: {jaccard_loss/items:.3f}')"
   ]
  },
  {
   "cell_type": "code",
   "execution_count": 39,
   "metadata": {},
   "outputs": [
    {
     "name": "stdout",
     "output_type": "stream",
     "text": [
      "\t Test Loss: 0.236\n",
      "\t Jaccard Index: 0.992\n"
     ]
    }
   ],
   "source": [
    "test(model, testdl)"
   ]
  },
  {
   "cell_type": "markdown",
   "metadata": {},
   "source": [
    "Loss is not quite the right way to evaluate a model like this.  However, it is \"encouraging\" that the loss on the test data is not wholly out of line from the loss in the training data."
   ]
  },
  {
   "cell_type": "code",
   "execution_count": null,
   "metadata": {},
   "outputs": [],
   "source": []
  }
 ],
 "metadata": {
  "kernelspec": {
   "display_name": "Python 3",
   "language": "python",
   "name": "python3"
  },
  "language_info": {
   "codemirror_mode": {
    "name": "ipython",
    "version": 3
   },
   "file_extension": ".py",
   "mimetype": "text/x-python",
   "name": "python",
   "nbconvert_exporter": "python",
   "pygments_lexer": "ipython3",
   "version": "3.7.4"
  }
 },
 "nbformat": 4,
 "nbformat_minor": 2
}
